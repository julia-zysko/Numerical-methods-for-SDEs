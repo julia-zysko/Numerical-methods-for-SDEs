{
 "cells": [
  {
   "cell_type": "markdown",
   "metadata": {},
   "source": [
    "# Inhomogeneous Geometric Brownian Motion fixed step size simulations"
   ]
  },
  {
   "cell_type": "code",
   "execution_count": 1,
   "metadata": {},
   "outputs": [],
   "source": [
    "import numpy as np\n",
    "import math as m\n",
    "import matplotlib.pyplot as plt\n",
    "from tqdm import tqdm\n",
    "from scipy.stats import linregress\n",
    "\n",
    "def BM(T, N):\n",
    "#Define time discretization\n",
    "    h = T/N\n",
    "    h_fine = h/16\n",
    "    t = np.arange(0, T+h, h)\n",
    "    t_fine = np.arange(0, T+h_fine, h_fine)\n",
    "\n",
    "# Generate the fine Brownian incements and path\n",
    "    W_fine = np.zeros(16*N+1)\n",
    "    dW_fine = np.zeros(16*N)\n",
    "    W_fine[0]= 0\n",
    "    for i in range(16*N):\n",
    "        dW_fine[i] = np.random.normal(0, np.sqrt(h_fine))\n",
    "        W_fine[i+1] = W_fine[i] + dW_fine[i]\n",
    "\n",
    "# Define the crude Brownian increments\n",
    "    dW_crude = np.zeros(N)\n",
    "    for i in range(N):\n",
    "        dW_crude[i] = np.sum(dW_fine[16*i:16*(i+1)])\n",
    "\n",
    "    BMoutputs = {\n",
    "        'step size': h,\n",
    "        'fine step size': h_fine,\n",
    "        'num steps': N,\n",
    "        'fine delta W': dW_fine, \n",
    "        'crude delta W': dW_crude\n",
    "    }\n",
    "    return BMoutputs"
   ]
  },
  {
   "cell_type": "markdown",
   "metadata": {},
   "source": [
    "## Specify parameters"
   ]
  },
  {
   "cell_type": "code",
   "execution_count": 2,
   "metadata": {},
   "outputs": [],
   "source": [
    "#specify the parameters of the IGBM\n",
    "a = 0.1\n",
    "b = 0.04\n",
    "sigma = 0.6\n",
    "\n",
    "#in Stratonovich form\n",
    "a_tilde = a + (sigma**2)/2\n",
    "b_tilde = 2*a*b/(2*a + sigma**2)\n",
    "\n",
    "#specify the initial condition\n",
    "Y_0 = 0.06\n",
    "\n",
    "constants = {\n",
    "    'a': a, \n",
    "    'b': b, \n",
    "    'vol': sigma, \n",
    "    'a tilde': a_tilde, \n",
    "    'b tilde': a_tilde, \n",
    "    'IV': Y_0\n",
    "}\n"
   ]
  },
  {
   "cell_type": "markdown",
   "metadata": {},
   "source": [
    "### Euler Maruyama"
   ]
  },
  {
   "cell_type": "code",
   "execution_count": 3,
   "metadata": {},
   "outputs": [],
   "source": [
    "def euler(BMoutputs, constants):\n",
    "    a = constants['a']\n",
    "    b = constants['b']\n",
    "    sigma = constants['vol']\n",
    "    Y_0 = constants['IV']\n",
    "\n",
    "    h = BMoutputs['step size']\n",
    "    h_fine = BMoutputs['fine step size']\n",
    "    N = BMoutputs['num steps']\n",
    "    dW_fine = BMoutputs['fine delta W']\n",
    "    dW_crude = BMoutputs['crude delta W']\n",
    "\n",
    "    #Initialize the outputs Y and Y_fine\n",
    "    Y= np.zeros(N+1)\n",
    "    Y[0] = Y_0\n",
    "    Y_fine = np.zeros(16*N+1)\n",
    "    Y_fine[0] = Y_0\n",
    "\n",
    "    #compute the crude Euler Maruyama approximations\n",
    "    for i in range(N):\n",
    "        Y[i+1] = Y[i] + a*(b - Y[i])*h + sigma*Y[i]*dW_crude[i]\n",
    "\n",
    "    #compute the fine Euler Maruyama approximations\n",
    "    for i in range(16*N):\n",
    "        Y_fine[i+1] = Y_fine[i] + a*(b - Y_fine[i])*h_fine + sigma*Y_fine[i]*dW_fine[i]\n",
    "\n",
    "    #compute the strong error term\n",
    "    E_N = (Y[-1]-Y_fine[-1])**2\n",
    "    return E_N\n",
    "\n",
    "#plot the error for different step sizes, i.e. different N\n",
    "#x = h\n",
    "#y = E_N\n",
    "#fig, ax = plt.subplots()\n",
    "#ax.plot(x, y, linewidth=2.0)\n",
    "#ax.set_xlabel('h')\n",
    "#ax.set_ylabel('E_N)\n",
    "#plt.show()"
   ]
  },
  {
   "cell_type": "markdown",
   "metadata": {},
   "source": [
    "### Milstein"
   ]
  },
  {
   "cell_type": "code",
   "execution_count": 4,
   "metadata": {},
   "outputs": [],
   "source": [
    "def milstein(BMoutputs, constants):\n",
    "    a = constants['a']\n",
    "    b = constants['b']\n",
    "    sigma = constants['vol']\n",
    "    a_tilde = constants['a tilde']\n",
    "    b_tilde = constants['b tilde']\n",
    "    Y_0 = constants['IV']\n",
    "\n",
    "    h = BMoutputs['step size']\n",
    "    h_fine = BMoutputs['fine step size']\n",
    "    N = BMoutputs['num steps']\n",
    "    dW_fine = BMoutputs['fine delta W']\n",
    "    dW_crude = BMoutputs['crude delta W']\n",
    "\n",
    "    #Initialize the outputs Y and Y_fine\n",
    "    Y= np.zeros(N+1)\n",
    "    Y[0] = Y_0\n",
    "    Y_fine = np.zeros(16*N+1)\n",
    "    Y_fine[0] = Y_0\n",
    "\n",
    "    #compute the crude Milstein approximations\n",
    "    for i in range(N):\n",
    "        Y[i+1] = Y[i] + a_tilde*(b_tilde - Y[i])*h + sigma*Y[i]*dW_crude[i] + (1/2)*(sigma**2)*Y[i]*((dW_crude[i])**2)\n",
    "\n",
    "    #compute the fine Milstein approximations\n",
    "    for i in range(16*N):\n",
    "        Y_fine[i+1] = Y_fine[i] + a_tilde*(b_tilde - Y_fine[i])*h_fine + sigma*Y_fine[i]*dW_fine[i] + (1/2)*(sigma**2)*Y_fine[i]*((dW_fine[i])**2)\n",
    "\n",
    "    #compute the strong error term\n",
    "    E_N = (Y[-1]-Y_fine[-1])**2\n",
    "    return E_N"
   ]
  },
  {
   "cell_type": "markdown",
   "metadata": {},
   "source": [
    "### Heun's"
   ]
  },
  {
   "cell_type": "code",
   "execution_count": 5,
   "metadata": {},
   "outputs": [],
   "source": [
    "def heun(BMoutputs, constants):\n",
    "    a = constants['a']\n",
    "    b = constants['b']\n",
    "    sigma = constants['vol']\n",
    "    a_tilde = constants['a tilde']\n",
    "    b_tilde = constants['b tilde']\n",
    "    Y_0 = constants['IV']\n",
    "\n",
    "    h = BMoutputs['step size']\n",
    "    h_fine = BMoutputs['fine step size']\n",
    "    N = BMoutputs['num steps']\n",
    "    dW_fine = BMoutputs['fine delta W']\n",
    "    dW_crude = BMoutputs['crude delta W']\n",
    "\n",
    "    #Initialize the outputs Y and Y_fine\n",
    "    Y= np.zeros(N+1)\n",
    "    Y[0] = Y_0\n",
    "    Y_tilde = np.zeros(N+1)\n",
    "    Y_fine = np.zeros(16*N+1)\n",
    "    Y_fine[0] = Y_0\n",
    "    Y_fine_tilde = np.zeros(16*N+1)\n",
    "\n",
    "    #compute the crude Heun's approximations\n",
    "    for i in range(N):\n",
    "        Y_tilde[i] = Y[i] + h*a_tilde*(b_tilde - Y[i]) + sigma*Y[i]*dW_crude[i]\n",
    "        Y[i+1] = Y[i] + (1/2)*h*(a_tilde*(b_tilde - Y[i]) + a_tilde*(b_tilde - Y_tilde[i])) + (1/2)*(sigma*Y[i] + sigma*Y_tilde[i])*dW_crude[i]\n",
    "\n",
    "    #compute the fine Heun's approximations\n",
    "    for i in range(16*N):\n",
    "        Y_fine_tilde[i] = Y_fine[i] + h_fine*a_tilde*(b_tilde - Y_fine[i]) + sigma*Y_fine[i]*dW_fine[i]\n",
    "        Y_fine[i+1] = Y_fine[i] + (1/2)*h_fine*(a_tilde*(b_tilde - Y_fine[i]) + a_tilde*(b_tilde - Y_fine_tilde[i])) + (1/2)*(sigma*Y_fine[i] + sigma*Y_fine_tilde[i])*dW_fine[i]\n",
    "\n",
    "\n",
    "    #compute the strong error term\n",
    "    E_N = (Y[-1]-Y_fine[-1])**2\n",
    "    return E_N"
   ]
  },
  {
   "cell_type": "markdown",
   "metadata": {},
   "source": [
    "#### sampling and error calculations"
   ]
  },
  {
   "cell_type": "code",
   "execution_count": 6,
   "metadata": {},
   "outputs": [
    {
     "name": "stderr",
     "output_type": "stream",
     "text": [
      "100%|██████████| 10000/10000 [00:03<00:00, 3008.84it/s]\n",
      "100%|██████████| 10000/10000 [00:13<00:00, 749.77it/s]\n",
      "100%|██████████| 10000/10000 [00:37<00:00, 264.37it/s]\n",
      "100%|██████████| 10000/10000 [01:12<00:00, 137.69it/s]\n",
      "100%|██████████| 10000/10000 [02:21<00:00, 70.43it/s]\n",
      "100%|██████████| 10000/10000 [04:25<00:00, 37.60it/s]\n"
     ]
    }
   ],
   "source": [
    "# Initialize lists to store errors and step sizes as numpy arrays\n",
    "EM_errors_means = np.array([])\n",
    "Mil_errors_means = np.array([])\n",
    "Heun_errors_means = np.array([])\n",
    "step_sizes = np.array([])\n",
    "\n",
    "no_samples = 10000\n",
    "T = 1\n",
    "for N in [2, 10, 25, 50, 100, 200]:\n",
    "    step_sizes =  np.append(step_sizes, T/N)\n",
    "    n=1\n",
    "    EM_errors = np.array([])\n",
    "    Mil_errors = np.array([])\n",
    "    Heun_errors = np.array([])\n",
    "    for i in tqdm(range(no_samples)):\n",
    "        BMoutputs = BM(T, N)\n",
    "\n",
    "        EM_error = euler(BMoutputs, constants)\n",
    "        Mil_error = milstein(BMoutputs, constants)\n",
    "        Heun_error = heun(BMoutputs, constants)\n",
    "\n",
    "        EM_errors = np.append(EM_errors, EM_error)\n",
    "        Mil_errors = np.append(Mil_errors, Mil_error)\n",
    "        Heun_errors = np.append(Heun_errors, Heun_error)\n",
    "\n",
    "    EM_mean_N = m.sqrt((np.sum(EM_errors))/no_samples)\n",
    "    EM_errors_means = np.append(EM_errors_means, EM_mean_N)\n",
    "    Mil_mean_N = m.sqrt((np.sum(Mil_errors))/no_samples)\n",
    "    Mil_errors_means = np.append(Mil_errors_means, Mil_mean_N)\n",
    "    Heun_mean_N = m.sqrt((np.sum(Heun_errors))/no_samples)\n",
    "    Heun_errors_means = np.append(Heun_errors_means, Heun_mean_N)\n",
    "\n",
    "# Calculate logarithm base 10 of step sizes and errors\n",
    "log_step_sizes = -np.log10(step_sizes)\n",
    "log_EM_errors = -np.log10(EM_errors_means)\n",
    "log_Mil_errors = -np.log10(Mil_errors_means)\n",
    "log_Heun_errors = -np.log10(Heun_errors_means)\n",
    "\n"
   ]
  },
  {
   "cell_type": "markdown",
   "metadata": {},
   "source": [
    "#### -log(Error) vs -log(h) plotting"
   ]
  },
  {
   "cell_type": "code",
   "execution_count": 8,
   "metadata": {},
   "outputs": [
    {
     "data": {
      "image/png": "[encoded data removed]",
      "text/plain": [
       "<Figure size 640x480 with 1 Axes>"
      ]
     },
     "metadata": {},
     "output_type": "display_data"
    },
    {
     "name": "stdout",
     "output_type": "stream",
     "text": [
      "Euler-Maruyama Fit: Slope = 0.48019758173427063 , Intercept = 1.819389524693757\n",
      "Milstein Fit: Slope = 0.9992669357007897 , Intercept = 1.6334306060320767\n",
      "Heun Fit: Slope = 0.970065201267368 , Intercept = 1.7306154178145357\n"
     ]
    }
   ],
   "source": [
    "\n",
    "# Assuming you have step_sizes, EM_errors, Mil_errors, and Heun_errors defined\n",
    "# take regression of log and plot\n",
    "\n",
    "# Perform linear regression\n",
    "slope_EM, intercept_EM, _, _, _ = linregress(log_step_sizes, log_EM_errors)\n",
    "slope_Mil, intercept_Mil, _, _, _ = linregress(log_step_sizes, log_Mil_errors)\n",
    "slope_Heun, intercept_Heun, _, _, _ = linregress(log_step_sizes, log_Heun_errors)\n",
    "\n",
    "# Plot the best-fit lines\n",
    "plt.plot(log_step_sizes, log_EM_errors, label='Euler-Maruyama', linestyle='--', marker=\"o\")\n",
    "plt.plot(log_step_sizes, log_Mil_errors, label='Milstein', linestyle='-', marker=\"s\")\n",
    "plt.plot(log_step_sizes, log_Heun_errors, label='Heun', linestyle='dotted', marker=\"X\")\n",
    "\n",
    "plt.xlabel('-log(h)')\n",
    "plt.ylabel('-log(S_N)')\n",
    "plt.legend(loc='upper left')\n",
    "plt.grid(True)\n",
    "plt.xlim(0, 2.5)\n",
    "plt.ylim(1, 4.5)\n",
    "plt.show()\n",
    "\n",
    "print(\"Euler-Maruyama Fit: Slope =\", slope_EM, \", Intercept =\", intercept_EM)\n",
    "print(\"Milstein Fit: Slope =\", slope_Mil, \", Intercept =\", intercept_Mil)\n",
    "print(\"Heun Fit: Slope =\", slope_Heun, \", Intercept =\", intercept_Heun)"
   ]
  },
  {
   "cell_type": "code",
   "execution_count": null,
   "metadata": {},
   "outputs": [],
   "source": []
  }
 ],
 "metadata": {
  "kernelspec": {
   "display_name": ".venv",
   "language": "python",
   "name": "python3"
  },
  "language_info": {
   "codemirror_mode": {
    "name": "ipython",
    "version": 3
   },
   "file_extension": ".py",
   "mimetype": "text/x-python",
   "name": "python",
   "nbconvert_exporter": "python",
   "pygments_lexer": "ipython3",
   "version": "3.12.2"
  }
 },
 "nbformat": 4,
 "nbformat_minor": 2
}
