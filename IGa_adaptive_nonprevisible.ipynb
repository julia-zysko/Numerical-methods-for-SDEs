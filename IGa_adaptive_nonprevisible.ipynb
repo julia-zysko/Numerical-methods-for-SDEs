{
 "cells": [
  {
   "cell_type": "code",
   "execution_count": 1,
   "metadata": {},
   "outputs": [],
   "source": [
    "import numpy as np\n",
    "import math as m\n",
    "import matplotlib.pyplot as plt\n",
    "from tqdm import tqdm\n",
    "import statistics as stat\n",
    "\n",
    "#specify parameters\n",
    "a = 4.19\n",
    "b = 0.0639\n",
    "sigma = 1.71\n",
    "mu = 0.0259\n",
    "\n",
    "a_tilde = a + (sigma**2)/2\n",
    "b_tilde = (2*a*b)/(2*a + sigma**2)\n",
    "\n",
    "#specify the initial condition (Y is V)\n",
    "U_0 = np.log(0.9335)\n",
    "Y_0 = 0.0649\n",
    "\n",
    "constants = {\n",
    "    'a': a, \n",
    "    'b': b, \n",
    "    'vol': sigma, \n",
    "    'drift': mu,\n",
    "    'a tilde': a_tilde, \n",
    "    'b tilde': b_tilde,\n",
    "    'IV U': U_0,\n",
    "    'IV V': Y_0\n",
    "}\n"
   ]
  },
  {
   "cell_type": "markdown",
   "metadata": {},
   "source": [
    "# BM generator"
   ]
  },
  {
   "cell_type": "code",
   "execution_count": 2,
   "metadata": {},
   "outputs": [],
   "source": [
    "def BM(T, h):\n",
    "#Define time discretization\n",
    "    N = int(T/h)\n",
    "    t = np.arange(0, T+h, h)\n",
    "\n",
    "# Define the crude Brownian increments\n",
    "    W_crude = np.zeros(N+1)\n",
    "    dW_crude = np.zeros(N)\n",
    "    W_crude[0]= 0\n",
    "    for i in range(N):\n",
    "        dW_crude[i] = np.random.normal(0, np.sqrt(h))\n",
    "        W_crude[i+1] = W_crude[i] + dW_crude[i]\n",
    "\n",
    "    BMoutputs = {\n",
    "        'step size': h,\n",
    "        'crude delta W': dW_crude\n",
    "    }\n",
    "    return BMoutputs"
   ]
  },
  {
   "cell_type": "markdown",
   "metadata": {},
   "source": [
    "## Define refine function"
   ]
  },
  {
   "cell_type": "code",
   "execution_count": 3,
   "metadata": {},
   "outputs": [],
   "source": [
    "def refine(dW, h):\n",
    "    B = np.random.normal(0, np.sqrt(h/4))\n",
    "    half_h = h/2\n",
    "    dW_1 = dW/2 - B\n",
    "    dW_2 = dW/2 + B\n",
    "    \n",
    "    return dW_1, dW_2, half_h"
   ]
  },
  {
   "cell_type": "markdown",
   "metadata": {},
   "source": [
    "## Define the function to create fine steps for Milstein"
   ]
  },
  {
   "cell_type": "code",
   "execution_count": 4,
   "metadata": {},
   "outputs": [],
   "source": [
    "def fine_step(y, u, constants, h, dWv, dWu, no_refines = 3):\n",
    "    sigma = constants['vol']\n",
    "    mu = constants['drift']\n",
    "    a_tilde = constants['a tilde']\n",
    "    b_tilde = constants['b tilde']\n",
    "    if no_refines == 0:\n",
    "        y_new = y + a_tilde*(b_tilde - y)*h + sigma*y*dWv + (1/2)*(sigma**2)*y*((dWv)**2)\n",
    "        u_new = u + (mu - (1/2)*(y**2))*h + y*dWu + (1/2)*sigma*y*dWu*dWv\n",
    "        return [y_new], [u_new], [dWv], [dWu]\n",
    "    else:\n",
    "        dWu_1, dWu_2, _ = refine(dWu, h)\n",
    "        dWv_1, dWv_2, half_h_v = refine(dWv, h)\n",
    "        y_new1, u_new1, dWv1 , dWu1= fine_step(y, u, constants, half_h_v, dWv_1, dWu_1, no_refines-1)\n",
    "        y_new2, u_new2, dWv2, dWu2 = fine_step(y_new1[-1], u_new1[-1], constants, half_h_v, dWv_2, dWu_2, no_refines - 1)\n",
    "\n",
    "        return y_new1 + y_new2, u_new1 + u_new2, dWv1 + dWv2, dWu1 + dWu2\n",
    "    "
   ]
  },
  {
   "cell_type": "markdown",
   "metadata": {},
   "source": [
    "# Define the function for adaptive Milstein method"
   ]
  },
  {
   "cell_type": "code",
   "execution_count": 5,
   "metadata": {},
   "outputs": [],
   "source": [
    "def milstein_adapt_iga(y, u, constants, tol, h, dWv, dWu,):\n",
    "    sigma = constants['vol']\n",
    "    mu = constants['drift']\n",
    "    a_tilde = constants['a tilde']\n",
    "    b_tilde = constants['b tilde']\n",
    "    c = tol\n",
    "\n",
    "    y_new = y + a_tilde*(b_tilde - y)*h + sigma*y*dWv + (1/2)*(sigma**2)*y*((dWv)**2)\n",
    "    if 0.5*(y+y_new) <= c/np.sqrt(h) or (h <= 1/256):\n",
    "        u_new = u + (mu - (1/2)*(y**2))*h + y*dWu + (1/2)*sigma*y*dWu*dWv\n",
    "        return [y_new], [u_new], [dWv], [dWu], [h]\n",
    "    else:\n",
    "        dWu_1, dWu_2, _ = refine(dWu, h)\n",
    "        dWv_1, dWv_2, half_h_v = refine(dWv, h)\n",
    "        y_new1, u_new1, dWv1 , dWu1, h1 = milstein_adapt_iga(y, u, constants, c, half_h_v, dWv_1, dWu_1)\n",
    "        y_new2, u_new2, dWv2, dWu2, h2 = milstein_adapt_iga(y_new1[-1], u_new1[-1], constants, c, half_h_v, dWv_2, dWu_2)\n",
    "        return y_new1 + y_new2, u_new1 + u_new2, dWv1 + dWv2, dWu1 + dWu2, h1 + h2\n"
   ]
  },
  {
   "cell_type": "markdown",
   "metadata": {},
   "source": [
    "## Run the Milstein with adaptive step sizes for different tolerances "
   ]
  },
  {
   "cell_type": "code",
   "execution_count": 6,
   "metadata": {},
   "outputs": [
    {
     "name": "stderr",
     "output_type": "stream",
     "text": [
      "  0%|          | 0/10000 [00:00<?, ?it/s]"
     ]
    },
    {
     "name": "stderr",
     "output_type": "stream",
     "text": [
      "100%|██████████| 10000/10000 [00:01<00:00, 5563.91it/s]\n",
      "100%|██████████| 10000/10000 [00:02<00:00, 3686.22it/s]\n",
      "100%|██████████| 10000/10000 [00:06<00:00, 1650.79it/s]\n",
      "100%|██████████| 10000/10000 [00:20<00:00, 489.53it/s]\n",
      "100%|██████████| 10000/10000 [01:14<00:00, 134.28it/s]\n",
      "100%|██████████| 10000/10000 [03:05<00:00, 53.95it/s]\n",
      "100%|██████████| 10000/10000 [04:10<00:00, 39.93it/s]\n",
      "100%|██████████| 10000/10000 [04:14<00:00, 39.23it/s]\n",
      "100%|██████████| 10000/10000 [04:40<00:00, 35.67it/s]\n"
     ]
    }
   ],
   "source": [
    "T = 1\n",
    "h_0 = 1/2 * T\n",
    "u_0 = constants['IV U']\n",
    "y_0 = constants['IV V']\n",
    "no_samples = 10000\n",
    "mean_errors = []\n",
    "ave_no_steps = []\n",
    "no_refines = 3\n",
    "two_to_refines = 2**no_refines\n",
    "\n",
    "for c in [1/8, 1/16, 1/32, 1/64, 1/128, 1/256, 1/512, 1/1024, 1/2048]:\n",
    "    errors = []\n",
    "    no_steps = []\n",
    "    for i in tqdm(range(no_samples)):\n",
    "        y_output = [y_0]\n",
    "        u_output = [u_0]\n",
    "        dWv_crude_output = [0]\n",
    "        dWu_crude_output = [0]\n",
    "        h_crude = [0]\n",
    "        y_fine_output = [y_0]\n",
    "        u_fine_output = [u_0]\n",
    "        dWv_fine_output = [0]\n",
    "        dWu_fine_output = [0]\n",
    "        step_counter = 0\n",
    "        BMoutputs_v = BM(T, h_0)\n",
    "        dWv_crude = BMoutputs_v['crude delta W']\n",
    "        h = BMoutputs_v['step size']\n",
    "        BMoutputs_u = BM(T, h_0)\n",
    "        dWu_crude = BMoutputs_u['crude delta W']\n",
    "        for i in range(len(dWv_crude)):\n",
    "            y, u, dWv_crude_adapt, dWu_crude_adapt, h_new = milstein_adapt_iga(y_output[-1], u_output[-1], constants, c, h, dWv_crude[i], dWu_crude[i])\n",
    "            y_output.extend(y)\n",
    "            u_output.extend(u)\n",
    "            dWv_crude_output.extend(dWv_crude_adapt)\n",
    "            dWu_crude_output.extend(dWu_crude_adapt)\n",
    "            h_crude.extend(h_new)\n",
    "            step_counter += len(dWv_crude_adapt)\n",
    "        times = [sum(h_crude[0:i+1]) for i in range(len(h_crude))]\n",
    "        for i in range(1,len(dWv_crude_output)):\n",
    "            dWv = dWv_crude_output[i]\n",
    "            dWu = dWu_crude_output[i]\n",
    "            h = h_crude[i]\n",
    "            y_fine, u_fine, dWv_fine, dWu_fine = fine_step(y_fine_output[-1], u_fine_output[-1], constants, h, dWv, dWu, no_refines)\n",
    "            y_fine_output.extend(y_fine)\n",
    "            u_fine_output.extend(u_fine)\n",
    "            dWv_fine_output.extend(dWv_fine)\n",
    "            dWu_fine_output.extend(dWu_fine)\n",
    "        h_fine = [0]*(two_to_refines*(len(h_crude)-1)+1)\n",
    "        for i in range(len(h_crude)-1):\n",
    "            h_fine[(two_to_refines*i)+1:two_to_refines*(i+1)+1] = [h_crude[i+1]/two_to_refines]*(two_to_refines)\n",
    "        times_fine = [sum(h_fine[0:i+1]) for i in range(len(h_fine))]\n",
    "        E = (u_output[-1]-u_fine_output[-1])**2\n",
    "        errors.append(E)\n",
    "        no_steps.append(step_counter)\n",
    "    mean_E = m.sqrt(stat.mean(errors))\n",
    "    mean_errors.append(mean_E)\n",
    "    ave_no_steps.append(stat.mean(no_steps))\n"
   ]
  },
  {
   "cell_type": "markdown",
   "metadata": {},
   "source": [
    "## Define the function to create fine steps for Heun's"
   ]
  },
  {
   "cell_type": "code",
   "execution_count": 7,
   "metadata": {},
   "outputs": [],
   "source": [
    "def heun_fine_step(y, u, constants, h, dWv, dWu, no_refines = 3):\n",
    "    sigma = constants['vol']\n",
    "    mu = constants['drift']\n",
    "    a_tilde = constants['a tilde']\n",
    "    b_tilde = constants['b tilde']\n",
    "    if no_refines == 0:\n",
    "        y_tilde = y + a_tilde*(b_tilde - y)*h + sigma*y*dWv \n",
    "        y_new = y + (1/2)*h*(a_tilde*(b_tilde - y) + a_tilde*(b_tilde - y_tilde)) + (1/2)*(sigma*y + sigma*y_tilde)*dWv\n",
    "        u_new = u + (mu - (1/4)*(y**2) - (1/4)*(y_tilde**2))*h + (1/2)*(y + y_tilde)*dWu\n",
    "        return [y_new], [u_new], [dWv], [dWu]\n",
    "    else:\n",
    "        dWu_1, dWu_2, _ = refine(dWu, h)\n",
    "        dWv_1, dWv_2, half_h_v = refine(dWv, h)\n",
    "        y_new1, u_new1, dWv1 , dWu1= heun_fine_step(y, u, constants, half_h_v, dWv_1, dWu_1, no_refines - 1)\n",
    "        y_new2, u_new2, dWv2, dWu2 = heun_fine_step(y_new1[-1], u_new1[-1], constants, half_h_v, dWv_2, dWu_2, no_refines - 1)\n",
    "\n",
    "        return y_new1 + y_new2, u_new1 + u_new2, dWv1 + dWv2, dWu1 + dWu2"
   ]
  },
  {
   "cell_type": "markdown",
   "metadata": {},
   "source": [
    "# Define the function for adaptive Heun's method"
   ]
  },
  {
   "cell_type": "code",
   "execution_count": 8,
   "metadata": {},
   "outputs": [],
   "source": [
    "def heun_adapt_iga(y, u, constants, tol, h, dWv, dWu,):\n",
    "    sigma = constants['vol']\n",
    "    mu = constants['drift']\n",
    "    a_tilde = constants['a tilde']\n",
    "    b_tilde = constants['b tilde']\n",
    "    c = tol\n",
    "\n",
    "    y_tilde = y + a_tilde*(b_tilde - y)*h + sigma*y*dWv \n",
    "    y_new = y + (1/2)*h*(a_tilde*(b_tilde - y) + a_tilde*(b_tilde - y_tilde)) + (1/2)*(sigma*y + sigma*y_tilde)*dWv\n",
    "    if 0.5*(y+y_new) <= c/np.sqrt(h) or (h <= 1/256):\n",
    "        u_new = u + (mu - (1/4)*(y**2) - (1/4)*(y_tilde**2))*h + (1/2)*(y + y_tilde)*dWu\n",
    "        return [y_new], [u_new], [dWv], [dWu], [h]\n",
    "    else:\n",
    "        dWu_1, dWu_2, _ = refine(dWu, h)\n",
    "        dWv_1, dWv_2, half_h_v = refine(dWv, h)\n",
    "        y_new1, u_new1, dWv1 , dWu1, h1 = heun_adapt_iga(y, u, constants, c, half_h_v, dWv_1, dWu_1)\n",
    "        y_new2, u_new2, dWv2, dWu2, h2 = heun_adapt_iga(y_new1[-1], u_new1[-1], constants, c, half_h_v, dWv_2, dWu_2)\n",
    "        return y_new1 + y_new2, u_new1 + u_new2, dWv1 + dWv2, dWu1 + dWu2, h1 + h2\n"
   ]
  },
  {
   "cell_type": "markdown",
   "metadata": {},
   "source": [
    "## Run the Heun's method with adaptive step sizes for different tolerances "
   ]
  },
  {
   "cell_type": "code",
   "execution_count": 9,
   "metadata": {},
   "outputs": [
    {
     "name": "stderr",
     "output_type": "stream",
     "text": [
      "100%|██████████| 10000/10000 [00:01<00:00, 5219.19it/s]\n",
      "100%|██████████| 10000/10000 [00:02<00:00, 3619.44it/s]\n",
      "100%|██████████| 10000/10000 [00:07<00:00, 1291.59it/s]\n",
      "100%|██████████| 10000/10000 [00:26<00:00, 378.17it/s]\n",
      "100%|██████████| 10000/10000 [01:24<00:00, 117.99it/s]\n",
      "100%|██████████| 10000/10000 [03:19<00:00, 50.25it/s]\n",
      "100%|██████████| 10000/10000 [04:24<00:00, 37.76it/s]\n",
      "100%|██████████| 10000/10000 [04:42<00:00, 35.44it/s]\n",
      "100%|██████████| 10000/10000 [04:44<00:00, 35.18it/s]\n"
     ]
    }
   ],
   "source": [
    "T = 1\n",
    "h_0 = 1/2 * T\n",
    "u_0 = constants['IV U']\n",
    "y_0 = constants['IV V']\n",
    "no_samples = 10000\n",
    "heun_mean_errors = []\n",
    "heun_ave_no_steps = []\n",
    "no_refines = 3\n",
    "two_to_refines = 2**no_refines\n",
    "\n",
    "for c in [1/8, 1/16, 1/32, 1/64, 1/128, 1/256, 1/512, 1/1024, 1/2048]:\n",
    "    errors = []\n",
    "    no_steps = []\n",
    "    for i in tqdm(range(no_samples)):\n",
    "        y_output = [y_0]\n",
    "        u_output = [u_0]\n",
    "        dWv_crude_output = [0]\n",
    "        dWu_crude_output = [0]\n",
    "        h_crude = [0]\n",
    "        y_fine_output = [y_0]\n",
    "        u_fine_output = [u_0]\n",
    "        dWv_fine_output = [0]\n",
    "        dWu_fine_output = [0]\n",
    "        step_counter = 0\n",
    "        BMoutputs_v = BM(T, h_0)\n",
    "        dWv_crude = BMoutputs_v['crude delta W']\n",
    "        h = BMoutputs_v['step size']\n",
    "        BMoutputs_u = BM(T, h_0)\n",
    "        dWu_crude = BMoutputs_u['crude delta W']\n",
    "        for i in range(len(dWv_crude)):\n",
    "            y, u, dWv_crude_adapt, dWu_crude_adapt, h_new = heun_adapt_iga(y_output[-1], u_output[-1], constants, c, h, dWv_crude[i], dWu_crude[i])\n",
    "            y_output.extend(y)\n",
    "            u_output.extend(u)\n",
    "            dWv_crude_output.extend(dWv_crude_adapt)\n",
    "            dWu_crude_output.extend(dWu_crude_adapt)\n",
    "            h_crude.extend(h_new)\n",
    "            step_counter += len(dWv_crude_adapt)\n",
    "        times = [sum(h_crude[0:i+1]) for i in range(len(h_crude))]\n",
    "        for i in range(1,len(dWv_crude_output)):\n",
    "            dWv = dWv_crude_output[i]\n",
    "            dWu = dWu_crude_output[i]\n",
    "            h= h_crude[i]\n",
    "            y_fine, u_fine, dWv_fine, dWu_fine = heun_fine_step(y_fine_output[-1], u_fine_output[-1], constants, h, dWv, dWu, no_refines)\n",
    "            y_fine_output.extend(y_fine)\n",
    "            u_fine_output.extend(u_fine)\n",
    "            dWv_fine_output.extend(dWv_fine)\n",
    "            dWu_fine_output.extend(dWu_fine)\n",
    "        h_fine = [0]*(two_to_refines*(len(h_crude)-1)+1)\n",
    "        for i in range(len(h_crude)-1):\n",
    "            h_fine[(two_to_refines*i)+1:two_to_refines*(i+1)+1] = [h_crude[i+1]/two_to_refines]*(two_to_refines)\n",
    "        times_fine = [sum(h_fine[0:i+1]) for i in range(len(h_fine))]\n",
    "        E = (u_output[-1]-u_fine_output[-1])**2\n",
    "        errors.append(E)\n",
    "        no_steps.append(step_counter)\n",
    "    mean_E = m.sqrt(stat.mean(errors))\n",
    "    heun_mean_errors.append(mean_E)\n",
    "    heun_ave_no_steps.append(stat.mean(no_steps))\n"
   ]
  },
  {
   "cell_type": "markdown",
   "metadata": {},
   "source": [
    "## Plot error vs average number of steps for both methods"
   ]
  },
  {
   "cell_type": "code",
   "execution_count": 10,
   "metadata": {},
   "outputs": [
    {
     "name": "stdout",
     "output_type": "stream",
     "text": [
      "Milstein: 0.33498267687424477\n",
      "Heun: 0.5051445649757192\n"
     ]
    },
    {
     "data": {
      "image/png": "[encoded data removed]",
      "text/plain": [
       "<Figure size 640x480 with 1 Axes>"
      ]
     },
     "metadata": {},
     "output_type": "display_data"
    }
   ],
   "source": [
    "from scipy.stats import linregress\n",
    "mil_log_steps = [m.log10(x) for x in ave_no_steps]\n",
    "mil_log_errors = [-m.log10(x) for x in mean_errors]\n",
    "heun_log_steps = [m.log10(x) for x in heun_ave_no_steps]\n",
    "heun_log_errors = [-m.log10(x) for x in heun_mean_errors]\n",
    "plt.plot(mil_log_steps, mil_log_errors, label='Milstein',linestyle='-', marker=\"s\", color='darkorange')\n",
    "plt.plot(heun_log_steps, heun_log_errors, label='Heun', linestyle='dotted', marker=\"X\", color='forestgreen')\n",
    "plt.xlabel('log(ave no. steps)')\n",
    "plt.ylabel('-log(S_N)')\n",
    "plt.legend()\n",
    "plt.grid(True)\n",
    "slope_mil, intercept_mil, _, _, _ = linregress(mil_log_steps, mil_log_errors)\n",
    "slope_heun, intercept_heun, _, _, _ = linregress(heun_log_steps, heun_log_errors)\n",
    "print(\"Milstein:\", slope_mil)\n",
    "print(\"Heun:\", slope_heun)"
   ]
  },
  {
   "cell_type": "code",
   "execution_count": null,
   "metadata": {},
   "outputs": [],
   "source": []
  }
 ],
 "metadata": {
  "kernelspec": {
   "display_name": ".venv",
   "language": "python",
   "name": "python3"
  },
  "language_info": {
   "codemirror_mode": {
    "name": "ipython",
    "version": 3
   },
   "file_extension": ".py",
   "mimetype": "text/x-python",
   "name": "python",
   "nbconvert_exporter": "python",
   "pygments_lexer": "ipython3",
   "version": "3.8.0"
  }
 },
 "nbformat": 4,
 "nbformat_minor": 2
}
